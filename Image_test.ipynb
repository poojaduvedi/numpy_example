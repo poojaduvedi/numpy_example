{
 "cells": [
  {
   "cell_type": "code",
   "execution_count": 1,
   "metadata": {},
   "outputs": [],
   "source": [
    "%matplotlib inline"
   ]
  },
  {
   "cell_type": "code",
   "execution_count": 2,
   "metadata": {},
   "outputs": [],
   "source": [
    "import numpy as np\n",
    "import pandas as pd\n",
    "import seaborn as sns\n",
    "import skimage.filters as img_filter\n",
    "import matplotlib.pyplot as plt"
   ]
  },
  {
   "cell_type": "code",
   "execution_count": 3,
   "metadata": {},
   "outputs": [],
   "source": [
    "X = np.zeros(shape = [300, 300, 3], dtype = np.uint8)"
   ]
  },
  {
   "cell_type": "code",
   "execution_count": 4,
   "metadata": {},
   "outputs": [],
   "source": [
    "for r_idx in range(300):\n",
    "    for c_idx in range(300):\n",
    "        if (r_idx - 150)**2 + (c_idx - 150)**2 <= 150**2 and (r_idx - 150)**2 + (c_idx - 150)**2 >= 100**2:\n",
    "            X[r_idx, c_idx, :] = [255, 100, 30]\n",
    "        elif (r_idx - 150)**2 + (c_idx - 150)**2 <= 100**2 and (r_idx - 150)**2 + (c_idx - 150)**2 >= 50**2:\n",
    "            X[r_idx, c_idx, :] = [255, 255, 255]\n",
    "        elif (r_idx - 150)**2 + (c_idx - 150)**2 <= 50**2:\n",
    "            X[r_idx, c_idx, :] = [0, 100, 0]\n",
    "        else:\n",
    "            X[r_idx, c_idx, :] = [0, 255, 255]"
   ]
  },
  {
   "cell_type": "code",
   "execution_count": 5,
   "metadata": {},
   "outputs": [
    {
     "data": {
      "text/plain": [
       "<matplotlib.image.AxesImage at 0x7f1ae958b8d0>"
      ]
     },
     "execution_count": 5,
     "metadata": {},
     "output_type": "execute_result"
    },
    {
     "data": {
      "image/png": "[encoded data removed]",
      "text/plain": [
       "<Figure size 432x288 with 1 Axes>"
      ]
     },
     "metadata": {},
     "output_type": "display_data"
    }
   ],
   "source": [
    "plt.imshow(X)"
   ]
  }
 ],
 "metadata": {
  "kernelspec": {
   "display_name": "Python 3",
   "language": "python",
   "name": "python3"
  },
  "language_info": {
   "codemirror_mode": {
    "name": "ipython",
    "version": 3
   },
   "file_extension": ".py",
   "mimetype": "text/x-python",
   "name": "python",
   "nbconvert_exporter": "python",
   "pygments_lexer": "ipython3",
   "version": "3.6.7"
  }
 },
 "nbformat": 4,
 "nbformat_minor": 2
}
